{
 "cells": [
  {
   "cell_type": "markdown",
   "metadata": {},
   "source": [
    "## 過去レースデータ保存\n",
    "\n",
    "## 学習フロー（lambda）\n",
    "- 学習データ取得(RDS)\n",
    "- 特徴量化\n",
    "- 加工済み学習データ保存(※必要ないかも)\n",
    "- カテゴリ変数保存(S3)\n",
    "- 学習\n",
    "- 学習済みモデル保存(S3)\n",
    "- 学習結果保存(RDS)\n",
    "\n",
    "## 開催予定レースデータ保存（lambda）\n",
    "\n",
    "## 予測フロー（lambda）\n",
    "- 開催予定レースデータ取得(RDSから)\n",
    "- 保存されているカテゴリ変数取得(S3から)\n",
    "- 特徴量化\n",
    "- 加工済み予測データ保存（※必要ないかも）\n",
    "- 学習済みモデル取得(S3から)\n",
    "- 予測\n",
    "- 予測結果保存(RDSに)"
   ]
  },
  {
   "cell_type": "markdown",
   "metadata": {},
   "source": []
  }
 ],
 "metadata": {
  "language_info": {
   "name": "python"
  }
 },
 "nbformat": 4,
 "nbformat_minor": 2
}
