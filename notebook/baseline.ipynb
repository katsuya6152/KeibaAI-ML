{
 "cells": [
  {
   "cell_type": "code",
   "execution_count": 1,
   "metadata": {},
   "outputs": [],
   "source": [
    "import datetime as dt\n",
    "import os\n",
    "import re\n",
    "\n",
    "from dotenv import load_dotenv\n",
    "import lightgbm as lgbm\n",
    "import matplotlib.pyplot as plt\n",
    "import numpy as np\n",
    "import pandas as pd\n",
    "import seaborn as sns\n",
    "from sklearn import preprocessing\n",
    "from sklearn.metrics import confusion_matrix, roc_curve, roc_auc_score\n",
    "import sqlalchemy\n",
    "from sqlalchemy import text"
   ]
  },
  {
   "cell_type": "code",
   "execution_count": 2,
   "metadata": {},
   "outputs": [],
   "source": [
    "load_dotenv(dotenv_path='../.env')\n",
    "\n",
    "user = os.environ.get('DB_USER')\n",
    "password = os.environ.get('DB_PASS')\n",
    "host = os.environ.get('HOST')\n",
    "port = os.environ.get('DB_PORT')\n",
    "database = os.environ.get('DB_NAME')\n",
    "url = f'mysql+pymysql://{user}:{password}@{host}:{port}/{database}'\n",
    "\n",
    "engine = sqlalchemy.create_engine(url)"
   ]
  },
  {
   "cell_type": "code",
   "execution_count": 3,
   "metadata": {},
   "outputs": [],
   "source": [
    "query = 'select * from races'\n",
    "race_df = pd.read_sql_query(sql=text(query), con=engine.connect())"
   ]
  },
  {
   "cell_type": "code",
   "execution_count": 4,
   "metadata": {},
   "outputs": [],
   "source": [
    "read_race_results = 'select * from race_results'\n",
    "race_results_df = pd.read_sql_query(sql=text(read_race_results), con=engine.connect())"
   ]
  },
  {
   "cell_type": "code",
   "execution_count": 5,
   "metadata": {},
   "outputs": [],
   "source": [
    "merge_df = pd.merge(race_df, race_results_df, on='id', how='left')\n",
    "merge_df = merge_df.dropna(subset=[\"id\"])"
   ]
  },
  {
   "cell_type": "code",
   "execution_count": 6,
   "metadata": {},
   "outputs": [],
   "source": [
    "USE_COLUMNS = [\n",
    "    \"id\", \"race_name\", \"race_place\", \"number_of_entries\", \"race_state\", \"date\",\n",
    "    \"rank\", \"box\", \"horse_order\", \"sex_and_age\", \"burden_weight\",\n",
    "    \"jockey\", \"horse_weight\", \"horse_trainer\", \"horse_owner\"\n",
    "]\n",
    "\n",
    "use_df = merge_df[USE_COLUMNS]"
   ]
  },
  {
   "cell_type": "code",
   "execution_count": 7,
   "metadata": {},
   "outputs": [],
   "source": [
    "def get_race_state_features(df):\n",
    "    return_df = df.copy()\n",
    "    return_df[\"race_course\"] = df[\"race_state\"].str[1]\n",
    "    return_df[\"race_distance\"] = df[\"race_state\"].str[2:6]\n",
    "    return_df[\"race_weather\"] = df[\"race_state\"].str[15]\n",
    "    return_df[\"race_state\"] = df[\"race_state\"].str[23]\n",
    "    return_df[\"race_start\"] =  df[\"race_state\"].str[32:37].str.replace(\":\", \"\")\n",
    "    return return_df"
   ]
  },
  {
   "cell_type": "code",
   "execution_count": 8,
   "metadata": {},
   "outputs": [],
   "source": [
    "def get_sex_and_age(df):\n",
    "    return_df = df.copy()\n",
    "    return_df[\"sex\"] = return_df[\"sex_and_age\"].str[0]\n",
    "    return_df[\"age\"] = return_df[\"sex_and_age\"].str[1]\n",
    "    return return_df"
   ]
  },
  {
   "cell_type": "code",
   "execution_count": 9,
   "metadata": {},
   "outputs": [],
   "source": [
    "def get_horse_weight(df):\n",
    "    return_df = df.copy()\n",
    "    return_df[\"difference_weight\"] = return_df[\"horse_weight\"].str[3:]\n",
    "    return_df[\"difference_weight\"] = return_df[\"difference_weight\"].replace(re.compile(\"\\(|\\)\"), \"\", regex=True)\n",
    "    return_df[return_df['difference_weight'] == ''] = -9999\n",
    "    return_df[\"difference_weight\"] = return_df[\"difference_weight\"].astype(int)\n",
    "    return_df[return_df['difference_weight'] == -9999] = None\n",
    "    return_df[\"horse_weight\"] = return_df[\"horse_weight\"].str[0:3]\n",
    "    return return_df"
   ]
  },
  {
   "cell_type": "code",
   "execution_count": 10,
   "metadata": {},
   "outputs": [],
   "source": [
    "def get_date(df):\n",
    "    return_df = df.copy()\n",
    "    return_df['date'] = return_df['date'].str.split(' ', expand=True)[0]\n",
    "    return_df['date'] = pd.to_datetime(return_df['date'], format='%Y年%m月%d日')\n",
    "    return_df['day_of_year'] = return_df['date'].dt.day_of_year\n",
    "    return_df['date_cos'] = np.cos(2 * np.pi * return_df['day_of_year'] / return_df['day_of_year'].max())\n",
    "    return_df['date_sin'] = np.sin(2 * np.pi * return_df['day_of_year'] / return_df['day_of_year'].max())\n",
    "    return return_df"
   ]
  },
  {
   "cell_type": "code",
   "execution_count": 11,
   "metadata": {},
   "outputs": [],
   "source": [
    "def get_all_feature(df):\n",
    "    return_df = df.copy()\n",
    "    return_df = get_race_state_features(return_df)\n",
    "    return_df = get_sex_and_age(return_df)\n",
    "    return_df = get_horse_weight(return_df)\n",
    "    return_df = get_date(return_df)\n",
    "    return return_df"
   ]
  },
  {
   "cell_type": "code",
   "execution_count": 12,
   "metadata": {},
   "outputs": [],
   "source": [
    "def label_encoder(df, cols):\n",
    "    return_df = df.copy()\n",
    "    for col in cols:\n",
    "        le = preprocessing.LabelEncoder()\n",
    "        return_df[col] = pd.Series(le.fit_transform(return_df[col]))\n",
    "    return return_df"
   ]
  },
  {
   "cell_type": "code",
   "execution_count": 13,
   "metadata": {},
   "outputs": [],
   "source": [
    "ENCODING_COLUMNS = [\n",
    "    \"id\", \"race_name\", \"race_place\",\n",
    "    \"race_state\", \"race_course\", \"race_weather\",\n",
    "    \"sex_and_age\", \"sex\",\n",
    "    \"jockey\", \"horse_trainer\", \"horse_owner\"\n",
    "]\n",
    "\n",
    "df = get_all_feature(use_df)\n",
    "encoded_df = label_encoder(df, ENCODING_COLUMNS)"
   ]
  },
  {
   "cell_type": "code",
   "execution_count": 14,
   "metadata": {},
   "outputs": [],
   "source": [
    "def clean_df(df, int_columns, float_columns):\n",
    "    return_df = df.copy()\n",
    "    return_df['rank'] = return_df['rank'].replace({'1': 1, '2': 1, '3': 1})\n",
    "    return_df.loc[~(return_df['rank'] == 1), 'rank'] = 0\n",
    "    for col in int_columns:\n",
    "        return_df[col] = pd.to_numeric(return_df[col], errors='coerce',downcast='integer')\n",
    "        return_df[col] = return_df[col].fillna(0).astype(int)\n",
    "    for col in float_columns:\n",
    "        return_df[col] = pd.to_numeric(return_df[col], errors='coerce',downcast='float')\n",
    "    return return_df"
   ]
  },
  {
   "cell_type": "code",
   "execution_count": 15,
   "metadata": {},
   "outputs": [],
   "source": [
    "INT_COLUMNS = [\n",
    "    \"box\", \"horse_order\", \"horse_weight\", \"race_distance\",\n",
    "    \"race_start\", \"age\", \"day_of_year\", \"number_of_entries\",\n",
    "    \"difference_weight\", \"day_of_year\", \"rank\"\n",
    "]\n",
    "FLOAT_COLUMNS =[\n",
    "    \"burden_weight\"\n",
    "]\n",
    "\n",
    "clean_df = clean_df(encoded_df, INT_COLUMNS, FLOAT_COLUMNS)"
   ]
  },
  {
   "cell_type": "code",
   "execution_count": 16,
   "metadata": {},
   "outputs": [],
   "source": [
    "def split_df(df):\n",
    "    return_df = df.copy()\n",
    "    train_df = return_df[return_df['date'] < dt.datetime(2021, 1,1)].drop('date', axis=1)\n",
    "    val_df = return_df[(return_df['date'] >= dt.datetime(2021, 1,1)) & (return_df['date'] < dt.datetime(2022, 1,1))].drop('date', axis=1)\n",
    "    test_df = return_df[return_df['date'] > dt.datetime(2022, 1, 1)].drop('date', axis=1)\n",
    "    return train_df, val_df, test_df"
   ]
  },
  {
   "cell_type": "code",
   "execution_count": 17,
   "metadata": {},
   "outputs": [],
   "source": [
    "train_df, val_df, test_df = split_df(clean_df)"
   ]
  },
  {
   "cell_type": "code",
   "execution_count": 18,
   "metadata": {},
   "outputs": [],
   "source": [
    "def split_target(df):\n",
    "    return_df = df.copy()\n",
    "    X = return_df.drop('rank', axis=1)\n",
    "    y = return_df['rank']\n",
    "    return X, y"
   ]
  },
  {
   "cell_type": "code",
   "execution_count": 19,
   "metadata": {},
   "outputs": [],
   "source": [
    "X_train, y_train = split_target(train_df)\n",
    "X_val, y_val = split_target(val_df)\n",
    "X_test, y_test = split_target(test_df)"
   ]
  },
  {
   "cell_type": "code",
   "execution_count": 20,
   "metadata": {},
   "outputs": [
    {
     "name": "stdout",
     "output_type": "stream",
     "text": [
      "Training until validation scores don't improve for 100 rounds\n",
      "[10]\ttraining's auc: 0.705418\tvalid_1's auc: 0.680304\n",
      "[20]\ttraining's auc: 0.726732\tvalid_1's auc: 0.690836\n",
      "[30]\ttraining's auc: 0.7413\tvalid_1's auc: 0.695887\n",
      "[40]\ttraining's auc: 0.753847\tvalid_1's auc: 0.700843\n",
      "[50]\ttraining's auc: 0.763565\tvalid_1's auc: 0.701711\n",
      "[60]\ttraining's auc: 0.773402\tvalid_1's auc: 0.703039\n",
      "[70]\ttraining's auc: 0.782302\tvalid_1's auc: 0.702968\n",
      "[80]\ttraining's auc: 0.789897\tvalid_1's auc: 0.701689\n",
      "[90]\ttraining's auc: 0.797226\tvalid_1's auc: 0.702633\n",
      "[100]\ttraining's auc: 0.804409\tvalid_1's auc: 0.702521\n",
      "[110]\ttraining's auc: 0.810701\tvalid_1's auc: 0.702598\n",
      "[120]\ttraining's auc: 0.816722\tvalid_1's auc: 0.703085\n",
      "[130]\ttraining's auc: 0.822948\tvalid_1's auc: 0.702318\n",
      "[140]\ttraining's auc: 0.828225\tvalid_1's auc: 0.702012\n",
      "[150]\ttraining's auc: 0.833761\tvalid_1's auc: 0.701677\n",
      "[160]\ttraining's auc: 0.838611\tvalid_1's auc: 0.701983\n",
      "[170]\ttraining's auc: 0.843498\tvalid_1's auc: 0.702138\n",
      "[180]\ttraining's auc: 0.84947\tvalid_1's auc: 0.701801\n",
      "[190]\ttraining's auc: 0.853451\tvalid_1's auc: 0.701034\n",
      "[200]\ttraining's auc: 0.857553\tvalid_1's auc: 0.700353\n",
      "[210]\ttraining's auc: 0.862062\tvalid_1's auc: 0.700703\n",
      "[220]\ttraining's auc: 0.866174\tvalid_1's auc: 0.700707\n",
      "Early stopping, best iteration is:\n",
      "[125]\ttraining's auc: 0.819763\tvalid_1's auc: 0.703428\n",
      "TEST_AUC=0.5587379464277206\n"
     ]
    }
   ],
   "source": [
    "train_set = lgbm.Dataset(X_train, y_train)\n",
    "val_set = lgbm.Dataset(X_val, y_val)\n",
    "\n",
    "params = {\n",
    "    \"objective\": \"binary\",\n",
    "    \"metric\": \"auc\",\n",
    "    'boosting_type': 'gbdt',\n",
    "    'n_estimators': 10000,\n",
    "    'random_state': 74,\n",
    "}\n",
    "\n",
    "clf = lgbm.LGBMClassifier(**params)\n",
    "\n",
    "clf.fit(X_train, y_train,\n",
    "        eval_set=[(X_train, y_train), (X_val, y_val)],\n",
    "        callbacks=[lgbm.early_stopping(stopping_rounds=100, verbose=True), lgbm.log_evaluation(10)])\n",
    "\n",
    "y_pred = clf.predict(X_test)\n",
    "score = roc_auc_score(y_test, y_pred)\n",
    "print(f'TEST_AUC={score}')"
   ]
  },
  {
   "cell_type": "code",
   "execution_count": 21,
   "metadata": {},
   "outputs": [
    {
     "data": {
      "text/plain": [
       "[Text(0.5, 23.52222222222222, 'Pred'), Text(50.722222222222214, 0.5, 'True')]"
      ]
     },
     "execution_count": 21,
     "metadata": {},
     "output_type": "execute_result"
    },
    {
     "data": {
      "image/png": "[encoded data removed]",
      "text/plain": [
       "<Figure size 640x480 with 2 Axes>"
      ]
     },
     "metadata": {},
     "output_type": "display_data"
    }
   ],
   "source": [
    "cm = confusion_matrix(y_test, y_pred)\n",
    "h_map = sns.heatmap(cm, annot=True, cmap='Blues', fmt='d')\n",
    "h_map.set( xlabel = \"Pred\", ylabel = \"True\")"
   ]
  },
  {
   "cell_type": "code",
   "execution_count": 22,
   "metadata": {},
   "outputs": [
    {
     "data": {
      "text/plain": [
       "[<matplotlib.lines.Line2D at 0x22c2d9e0910>]"
      ]
     },
     "execution_count": 22,
     "metadata": {},
     "output_type": "execute_result"
    },
    {
     "data": {
      "image/png": "[encoded data removed]",
      "text/plain": [
       "<Figure size 640x480 with 1 Axes>"
      ]
     },
     "metadata": {},
     "output_type": "display_data"
    }
   ],
   "source": [
    "fig, ax = plt.subplots()\n",
    "\n",
    "fpr, tpr, _ = roc_curve(y_test, y_pred)\n",
    "ax.grid()\n",
    "fig.tight_layout()\n",
    "ax.plot(fpr, tpr)\n",
    "\n",
    "ax.plot(np.linspace(0, 1), np.linspace(0, 1), '--', color='grey')"
   ]
  },
  {
   "cell_type": "code",
   "execution_count": 23,
   "metadata": {},
   "outputs": [
    {
     "data": {
      "text/html": [
       "<div>\n",
       "<style scoped>\n",
       "    .dataframe tbody tr th:only-of-type {\n",
       "        vertical-align: middle;\n",
       "    }\n",
       "\n",
       "    .dataframe tbody tr th {\n",
       "        vertical-align: top;\n",
       "    }\n",
       "\n",
       "    .dataframe thead th {\n",
       "        text-align: right;\n",
       "    }\n",
       "</style>\n",
       "<table border=\"1\" class=\"dataframe\">\n",
       "  <thead>\n",
       "    <tr style=\"text-align: right;\">\n",
       "      <th></th>\n",
       "      <th>importance</th>\n",
       "    </tr>\n",
       "  </thead>\n",
       "  <tbody>\n",
       "    <tr>\n",
       "      <th>jockey</th>\n",
       "      <td>637</td>\n",
       "    </tr>\n",
       "    <tr>\n",
       "      <th>horse_trainer</th>\n",
       "      <td>437</td>\n",
       "    </tr>\n",
       "    <tr>\n",
       "      <th>horse_owner</th>\n",
       "      <td>405</td>\n",
       "    </tr>\n",
       "    <tr>\n",
       "      <th>horse_weight</th>\n",
       "      <td>356</td>\n",
       "    </tr>\n",
       "    <tr>\n",
       "      <th>id</th>\n",
       "      <td>267</td>\n",
       "    </tr>\n",
       "    <tr>\n",
       "      <th>day_of_year</th>\n",
       "      <td>189</td>\n",
       "    </tr>\n",
       "    <tr>\n",
       "      <th>race_name</th>\n",
       "      <td>188</td>\n",
       "    </tr>\n",
       "    <tr>\n",
       "      <th>date_sin</th>\n",
       "      <td>151</td>\n",
       "    </tr>\n",
       "    <tr>\n",
       "      <th>date_cos</th>\n",
       "      <td>135</td>\n",
       "    </tr>\n",
       "    <tr>\n",
       "      <th>difference_weight</th>\n",
       "      <td>129</td>\n",
       "    </tr>\n",
       "    <tr>\n",
       "      <th>number_of_entries</th>\n",
       "      <td>128</td>\n",
       "    </tr>\n",
       "    <tr>\n",
       "      <th>age</th>\n",
       "      <td>128</td>\n",
       "    </tr>\n",
       "    <tr>\n",
       "      <th>race_start</th>\n",
       "      <td>124</td>\n",
       "    </tr>\n",
       "    <tr>\n",
       "      <th>sex_and_age</th>\n",
       "      <td>111</td>\n",
       "    </tr>\n",
       "    <tr>\n",
       "      <th>horse_order</th>\n",
       "      <td>108</td>\n",
       "    </tr>\n",
       "    <tr>\n",
       "      <th>burden_weight</th>\n",
       "      <td>77</td>\n",
       "    </tr>\n",
       "    <tr>\n",
       "      <th>box</th>\n",
       "      <td>58</td>\n",
       "    </tr>\n",
       "    <tr>\n",
       "      <th>race_place</th>\n",
       "      <td>38</td>\n",
       "    </tr>\n",
       "    <tr>\n",
       "      <th>race_distance</th>\n",
       "      <td>38</td>\n",
       "    </tr>\n",
       "    <tr>\n",
       "      <th>race_state</th>\n",
       "      <td>19</td>\n",
       "    </tr>\n",
       "    <tr>\n",
       "      <th>race_weather</th>\n",
       "      <td>17</td>\n",
       "    </tr>\n",
       "    <tr>\n",
       "      <th>race_course</th>\n",
       "      <td>9</td>\n",
       "    </tr>\n",
       "    <tr>\n",
       "      <th>sex</th>\n",
       "      <td>1</td>\n",
       "    </tr>\n",
       "  </tbody>\n",
       "</table>\n",
       "</div>"
      ],
      "text/plain": [
       "                   importance\n",
       "jockey                    637\n",
       "horse_trainer             437\n",
       "horse_owner               405\n",
       "horse_weight              356\n",
       "id                        267\n",
       "day_of_year               189\n",
       "race_name                 188\n",
       "date_sin                  151\n",
       "date_cos                  135\n",
       "difference_weight         129\n",
       "number_of_entries         128\n",
       "age                       128\n",
       "race_start                124\n",
       "sex_and_age               111\n",
       "horse_order               108\n",
       "burden_weight              77\n",
       "box                        58\n",
       "race_place                 38\n",
       "race_distance              38\n",
       "race_state                 19\n",
       "race_weather               17\n",
       "race_course                 9\n",
       "sex                         1"
      ]
     },
     "metadata": {},
     "output_type": "display_data"
    }
   ],
   "source": [
    "importance = pd.DataFrame(clf.feature_importances_, index=X_test.columns, columns=['importance'])\n",
    "importance = importance.sort_values('importance', ascending=False)\n",
    "display(importance)"
   ]
  },
  {
   "cell_type": "code",
   "execution_count": 24,
   "metadata": {},
   "outputs": [
    {
     "data": {
      "text/plain": [
       "'{\"importance\":{\"jockey\":637,\"horse_trainer\":437,\"horse_owner\":405,\"horse_weight\":356,\"id\":267,\"day_of_year\":189,\"race_name\":188,\"date_sin\":151,\"date_cos\":135,\"difference_weight\":129,\"number_of_entries\":128,\"age\":128,\"race_start\":124,\"sex_and_age\":111,\"horse_order\":108,\"burden_weight\":77,\"box\":58,\"race_place\":38,\"race_distance\":38,\"race_state\":19,\"race_weather\":17,\"race_course\":9,\"sex\":1}}'"
      ]
     },
     "execution_count": 24,
     "metadata": {},
     "output_type": "execute_result"
    }
   ],
   "source": [
    "importance.to_json()"
   ]
  },
  {
   "cell_type": "code",
   "execution_count": 25,
   "metadata": {},
   "outputs": [
    {
     "data": {
      "text/plain": [
       "<Axes: title={'center': 'Feature importance'}, xlabel='Feature importance', ylabel='Features'>"
      ]
     },
     "execution_count": 25,
     "metadata": {},
     "output_type": "execute_result"
    },
    {
     "data": {
      "image/png": "[encoded data removed]",
      "text/plain": [
       "<Figure size 640x480 with 1 Axes>"
      ]
     },
     "metadata": {},
     "output_type": "display_data"
    }
   ],
   "source": [
    "lgbm.plot_importance(clf)"
   ]
  },
  {
   "cell_type": "code",
   "execution_count": 26,
   "metadata": {},
   "outputs": [],
   "source": [
    "from pymongo import MongoClient\n",
    "\n",
    "\n",
    "HOST = os.environ.get('MONGO_HOST')\n",
    "PORT = int(os.environ.get('MONGO_PORT'))\n",
    "USERNAME = os.environ.get('MONGO_USER_NAME')\n",
    "PASSWORD = os.environ.get('MONGO_PASSWORD')\n",
    "DB_NAME = os.environ.get('MONGO_DB_NAME')\n",
    "VER = 0.0\n",
    "\n",
    "client = MongoClient(host=HOST, port=PORT)\n",
    "today = str(dt.date.today())"
   ]
  },
  {
   "cell_type": "code",
   "execution_count": 27,
   "metadata": {},
   "outputs": [
    {
     "data": {
      "text/plain": [
       "<pymongo.results.InsertManyResult at 0x22c2c1a7100>"
      ]
     },
     "execution_count": 27,
     "metadata": {},
     "output_type": "execute_result"
    }
   ],
   "source": [
    "db = client[DB_NAME]\n",
    "collection = db['Test_AUC']\n",
    "test_auc = [\n",
    "    {'ver': VER, 'score': score, 'create': today}\n",
    "]\n",
    "collection.insert_many(test_auc)"
   ]
  },
  {
   "cell_type": "code",
   "execution_count": 28,
   "metadata": {},
   "outputs": [
    {
     "data": {
      "text/plain": [
       "<pymongo.results.InsertManyResult at 0x22c0631b1f0>"
      ]
     },
     "execution_count": 28,
     "metadata": {},
     "output_type": "execute_result"
    }
   ],
   "source": [
    "importance_json = importance.to_json()\n",
    "\n",
    "db = client[DB_NAME]\n",
    "collection = db['importance']\n",
    "importance_value = [\n",
    "    {'ver': VER, 'importance': importance_json, 'create': today}\n",
    "]\n",
    "collection.insert_many(importance_value)"
   ]
  },
  {
   "cell_type": "code",
   "execution_count": 29,
   "metadata": {},
   "outputs": [
    {
     "data": {
      "text/plain": [
       "<pymongo.results.InsertManyResult at 0x22c2c1a7610>"
      ]
     },
     "execution_count": 29,
     "metadata": {},
     "output_type": "execute_result"
    }
   ],
   "source": [
    "TN = int(cm[0][0])\n",
    "FP = int(cm[0][1])\n",
    "FN = int(cm[1][0])\n",
    "TP = int(cm[1][1])\n",
    "FPR = fpr.tolist()\n",
    "TPR = tpr.tolist()\n",
    "\n",
    "db = client[DB_NAME]\n",
    "collection = db['confusion_matrix']\n",
    "confusion_matrix = [\n",
    "    {'ver': VER, 'TP': TP, 'FP': FP, 'FN': FN, 'TN': TN, 'FPR': FPR,'TPR': TPR, 'create': today}\n",
    "]\n",
    "collection.insert_many(confusion_matrix)"
   ]
  },
  {
   "cell_type": "code",
   "execution_count": 30,
   "metadata": {},
   "outputs": [
    {
     "data": {
      "text/plain": [
       "<pymongo.results.InsertManyResult at 0x22c2d1cfa60>"
      ]
     },
     "execution_count": 30,
     "metadata": {},
     "output_type": "execute_result"
    }
   ],
   "source": [
    "train_data_json = train_df.to_json(orient='records')\n",
    "\n",
    "db = client[DB_NAME]\n",
    "collection = db['train_data']\n",
    "train_data = [\n",
    "    {'ver': VER, 'train_data': train_data_json, 'create': today}\n",
    "]\n",
    "collection.insert_many(train_data)"
   ]
  },
  {
   "cell_type": "code",
   "execution_count": 31,
   "metadata": {},
   "outputs": [
    {
     "data": {
      "text/plain": [
       "<pymongo.results.InsertManyResult at 0x22c2c1a75b0>"
      ]
     },
     "execution_count": 31,
     "metadata": {},
     "output_type": "execute_result"
    }
   ],
   "source": [
    "val_data_json = val_df.to_json(orient='records')\n",
    "\n",
    "db = client[DB_NAME]\n",
    "collection = db['val_data']\n",
    "val_data = [\n",
    "    {'ver': VER, 'val_data': val_data_json, 'create': today}\n",
    "]\n",
    "collection.insert_many(val_data)"
   ]
  },
  {
   "cell_type": "code",
   "execution_count": 32,
   "metadata": {},
   "outputs": [
    {
     "data": {
      "text/plain": [
       "<pymongo.results.InsertManyResult at 0x22c2c1a5e10>"
      ]
     },
     "execution_count": 32,
     "metadata": {},
     "output_type": "execute_result"
    }
   ],
   "source": [
    "test_data_json = val_df.to_json(orient='records')\n",
    "\n",
    "db = client[DB_NAME]\n",
    "collection = db['test_data']\n",
    "test_data = [\n",
    "    {'ver': VER, 'test_data': test_data_json, 'create': today}\n",
    "]\n",
    "collection.insert_many(test_data)"
   ]
  }
 ],
 "metadata": {
  "kernelspec": {
   "display_name": "myvenv",
   "language": "python",
   "name": "python3"
  },
  "language_info": {
   "codemirror_mode": {
    "name": "ipython",
    "version": 3
   },
   "file_extension": ".py",
   "mimetype": "text/x-python",
   "name": "python",
   "nbconvert_exporter": "python",
   "pygments_lexer": "ipython3",
   "version": "3.11.1"
  },
  "orig_nbformat": 4,
  "vscode": {
   "interpreter": {
    "hash": "7ff69bacaadc7e2cd0d1da4a544b42c7a912005d437346d3412f68a334aa5606"
   }
  }
 },
 "nbformat": 4,
 "nbformat_minor": 2
}
