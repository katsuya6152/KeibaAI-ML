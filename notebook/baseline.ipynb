{
 "cells": [
  {
   "cell_type": "code",
   "execution_count": 1,
   "metadata": {},
   "outputs": [],
   "source": [
    "import datetime as dt\n",
    "import os\n",
    "import re\n",
    "\n",
    "from dotenv import load_dotenv\n",
    "import lightgbm as lgbm\n",
    "import matplotlib.pyplot as plt\n",
    "import numpy as np\n",
    "import pandas as pd\n",
    "import seaborn as sns\n",
    "from sklearn import preprocessing\n",
    "from sklearn.metrics import confusion_matrix, roc_curve, roc_auc_score\n",
    "import sqlalchemy\n",
    "from sqlalchemy import text"
   ]
  },
  {
   "cell_type": "code",
   "execution_count": 2,
   "metadata": {},
   "outputs": [],
   "source": [
    "# load environment variables\n",
    "load_dotenv(dotenv_path='../.env')\n",
    "\n",
    "# connection parameters\n",
    "user = os.environ.get('DB_USER')\n",
    "password = os.environ.get('DB_PASS')\n",
    "host = os.environ.get('HOST')\n",
    "port = os.environ.get('DB_PORT')\n",
    "database = os.environ.get('DB_NAME')\n",
    "url = f'mysql+pymysql://{user}:{password}@{host}:{port}/{database}'\n",
    "\n",
    "engine = sqlalchemy.create_engine(url)"
   ]
  },
  {
   "cell_type": "code",
   "execution_count": 3,
   "metadata": {},
   "outputs": [],
   "source": [
    "query = 'select * from races'\n",
    "race_df = pd.read_sql_query(sql=text(query), con=engine.connect())"
   ]
  },
  {
   "cell_type": "code",
   "execution_count": 4,
   "metadata": {},
   "outputs": [],
   "source": [
    "read_race_results = 'select * from race_results'\n",
    "race_results_df = pd.read_sql_query(sql=text(read_race_results), con=engine.connect())"
   ]
  },
  {
   "cell_type": "code",
   "execution_count": 5,
   "metadata": {},
   "outputs": [],
   "source": [
    "merge_df = pd.merge(race_df, race_results_df, on='id', how='left')\n",
    "merge_df = merge_df.dropna(subset=[\"id\"])"
   ]
  },
  {
   "cell_type": "code",
   "execution_count": 6,
   "metadata": {},
   "outputs": [],
   "source": [
    "USE_COLUMNS = [\n",
    "    \"id\", \"race_name\", \"race_place\", \"number_of_entries\", \"race_state\", \"date\",\n",
    "    \"rank\", \"box\", \"horse_order\", \"sex_and_age\", \"burden_weight\",\n",
    "    \"jockey\", \"horse_weight\", \"horse_trainer\", \"horse_owner\"\n",
    "]\n",
    "\n",
    "use_df = merge_df[USE_COLUMNS]"
   ]
  },
  {
   "cell_type": "code",
   "execution_count": 7,
   "metadata": {},
   "outputs": [],
   "source": [
    "def get_race_state_features(df):\n",
    "    return_df = df.copy()\n",
    "    return_df[\"race_course\"] = df[\"race_state\"].str[1]\n",
    "    return_df[\"race_distance\"] = df[\"race_state\"].str[2:6]\n",
    "    return_df[\"race_weather\"] = df[\"race_state\"].str[15]\n",
    "    return_df[\"race_state\"] = df[\"race_state\"].str[23]\n",
    "    return_df[\"race_start\"] =  df[\"race_state\"].str[32:37].str.replace(\":\", \"\")\n",
    "    return return_df"
   ]
  },
  {
   "cell_type": "code",
   "execution_count": 8,
   "metadata": {},
   "outputs": [],
   "source": [
    "def get_sex_and_age(df):\n",
    "    return_df = df.copy()\n",
    "    return_df[\"sex\"] = return_df[\"sex_and_age\"].str[0]\n",
    "    return_df[\"age\"] = return_df[\"sex_and_age\"].str[1]\n",
    "    return return_df"
   ]
  },
  {
   "cell_type": "code",
   "execution_count": 9,
   "metadata": {},
   "outputs": [],
   "source": [
    "def get_horse_weight(df):\n",
    "    return_df = df.copy()\n",
    "    return_df[\"difference_weight\"] = return_df[\"horse_weight\"].str[3:]\n",
    "    return_df[\"difference_weight\"] = return_df[\"difference_weight\"].replace(re.compile(\"\\(|\\)\"), \"\", regex=True)\n",
    "    return_df[return_df['difference_weight'] == ''] = -9999\n",
    "    return_df[\"difference_weight\"] = return_df[\"difference_weight\"].astype(int)\n",
    "    return_df[return_df['difference_weight'] == -9999] = None\n",
    "    return_df[\"horse_weight\"] = return_df[\"horse_weight\"].str[0:3]\n",
    "    return return_df"
   ]
  },
  {
   "cell_type": "code",
   "execution_count": 10,
   "metadata": {},
   "outputs": [],
   "source": [
    "def get_date(df):\n",
    "    return_df = df.copy()\n",
    "    return_df['date'] = return_df['date'].str.split(' ', expand=True)[0]\n",
    "    return_df['date'] = pd.to_datetime(return_df['date'], format='%Y年%m月%d日')\n",
    "    return_df['day_of_year'] = return_df['date'].dt.day_of_year\n",
    "    return_df['date_cos'] = np.cos(2 * np.pi * return_df['day_of_year'] / return_df['day_of_year'].max())\n",
    "    return_df['date_sin'] = np.sin(2 * np.pi * return_df['day_of_year'] / return_df['day_of_year'].max())\n",
    "    return return_df"
   ]
  },
  {
   "cell_type": "code",
   "execution_count": 11,
   "metadata": {},
   "outputs": [],
   "source": [
    "def get_all_feature(df):\n",
    "    return_df = df.copy()\n",
    "    return_df = get_race_state_features(return_df)\n",
    "    return_df = get_sex_and_age(return_df)\n",
    "    return_df = get_horse_weight(return_df)\n",
    "    return_df = get_date(return_df)\n",
    "    return return_df"
   ]
  },
  {
   "cell_type": "code",
   "execution_count": 12,
   "metadata": {},
   "outputs": [],
   "source": [
    "def label_encoder(df, cols):\n",
    "    return_df = df.copy()\n",
    "    for col in cols:\n",
    "        le = preprocessing.LabelEncoder()\n",
    "        return_df[col] = pd.Series(le.fit_transform(return_df[col]))\n",
    "    return return_df"
   ]
  },
  {
   "cell_type": "code",
   "execution_count": 13,
   "metadata": {},
   "outputs": [],
   "source": [
    "ENCODING_COLUMNS = [\n",
    "    \"race_name\", \"race_place\",\n",
    "    \"race_state\", \"race_course\", \"race_weather\",\n",
    "    \"sex_and_age\", \"sex\",\n",
    "    \"jockey\", \"horse_trainer\", \"horse_owner\"\n",
    "]\n",
    "\n",
    "df = get_all_feature(use_df)\n",
    "encoded_df = label_encoder(df, ENCODING_COLUMNS)"
   ]
  },
  {
   "cell_type": "code",
   "execution_count": 14,
   "metadata": {},
   "outputs": [],
   "source": [
    "INT_COLUMNS = [\n",
    "    \"box\", \"horse_order\", \"horse_weight\", \"race_distance\",\n",
    "    \"race_start\", \"age\"\n",
    "]\n",
    "FLOAT_COLUMNS =[\n",
    "    \"id\", \"burden_weight\"\n",
    "]\n",
    "\n",
    "def clean_df(df, int_columns, float_columns):\n",
    "    return_df = df.copy()\n",
    "    # return_df = return_df.drop('date', axis=1)\n",
    "    for col in int_columns:\n",
    "        return_df[col] = pd.to_numeric(return_df[col], errors='coerce',downcast='integer')\n",
    "    for col in float_columns:\n",
    "        return_df[col] = return_df[col].astype(float)\n",
    "    return return_df"
   ]
  },
  {
   "cell_type": "code",
   "execution_count": 15,
   "metadata": {},
   "outputs": [],
   "source": [
    "clean_df = clean_df(encoded_df, INT_COLUMNS, FLOAT_COLUMNS)"
   ]
  },
  {
   "cell_type": "code",
   "execution_count": 16,
   "metadata": {},
   "outputs": [],
   "source": [
    "def split_df(df):\n",
    "    return_df = df.copy()\n",
    "    train_df = return_df[return_df['date'] < dt.datetime(2021, 1,1)].drop('date', axis=1)\n",
    "    val_df = return_df[(return_df['date'] >= dt.datetime(2021, 1,1)) & (return_df['date'] < dt.datetime(2022, 1,1))].drop('date', axis=1)\n",
    "    test_df = return_df[return_df['date'] > dt.datetime(2022, 1, 1)].drop('date', axis=1)\n",
    "\n",
    "    return train_df, val_df, test_df"
   ]
  },
  {
   "cell_type": "code",
   "execution_count": 17,
   "metadata": {},
   "outputs": [],
   "source": [
    "train_df, val_df, test_df = split_df(clean_df)"
   ]
  },
  {
   "cell_type": "code",
   "execution_count": 18,
   "metadata": {},
   "outputs": [],
   "source": [
    "def split_target(df):\n",
    "    return_df = df.copy()\n",
    "    X = return_df.drop('rank', axis=1)\n",
    "    y = return_df['rank']\n",
    "    y = y.replace({'1': 1, '2': 1, '3': 1})\n",
    "    y[y != 1] = 0\n",
    "    y = y.astype(int)\n",
    "    return X, y"
   ]
  },
  {
   "cell_type": "code",
   "execution_count": 19,
   "metadata": {},
   "outputs": [],
   "source": [
    "X_train, y_train = split_target(train_df)\n",
    "X_val, y_val = split_target(val_df)\n",
    "X_test, y_test = split_target(test_df)"
   ]
  },
  {
   "cell_type": "code",
   "execution_count": 20,
   "metadata": {},
   "outputs": [
    {
     "name": "stdout",
     "output_type": "stream",
     "text": [
      "Training until validation scores don't improve for 100 rounds\n",
      "[10]\ttraining's auc: 0.705258\tvalid_1's auc: 0.680209\n",
      "[20]\ttraining's auc: 0.726887\tvalid_1's auc: 0.69105\n",
      "[30]\ttraining's auc: 0.740582\tvalid_1's auc: 0.69581\n",
      "[40]\ttraining's auc: 0.753761\tvalid_1's auc: 0.698642\n",
      "[50]\ttraining's auc: 0.764396\tvalid_1's auc: 0.698983\n",
      "[60]\ttraining's auc: 0.773542\tvalid_1's auc: 0.699469\n",
      "[70]\ttraining's auc: 0.782089\tvalid_1's auc: 0.699498\n",
      "[80]\ttraining's auc: 0.790135\tvalid_1's auc: 0.699714\n",
      "[90]\ttraining's auc: 0.797656\tvalid_1's auc: 0.699563\n",
      "[100]\ttraining's auc: 0.804985\tvalid_1's auc: 0.69915\n",
      "[110]\ttraining's auc: 0.811039\tvalid_1's auc: 0.698096\n",
      "[120]\ttraining's auc: 0.816674\tvalid_1's auc: 0.697998\n",
      "[130]\ttraining's auc: 0.822625\tvalid_1's auc: 0.698341\n",
      "[140]\ttraining's auc: 0.828686\tvalid_1's auc: 0.698028\n",
      "[150]\ttraining's auc: 0.833458\tvalid_1's auc: 0.698124\n",
      "[160]\ttraining's auc: 0.839055\tvalid_1's auc: 0.698764\n",
      "[170]\ttraining's auc: 0.844521\tvalid_1's auc: 0.698904\n",
      "Early stopping, best iteration is:\n",
      "[73]\ttraining's auc: 0.784465\tvalid_1's auc: 0.700077\n",
      "TEST_AUC=0.5546020867761899\n"
     ]
    }
   ],
   "source": [
    "train_set = lgbm.Dataset(X_train, y_train)\n",
    "val_set = lgbm.Dataset(X_val, y_val)\n",
    "\n",
    "params = {\n",
    "    \"objective\": \"binary\",\n",
    "    \"metric\": \"auc\",\n",
    "    'boosting_type': 'gbdt',\n",
    "    'n_estimators': 10000,\n",
    "    'random_state': 74,\n",
    "}\n",
    "\n",
    "clf = lgbm.LGBMClassifier(**params)\n",
    "\n",
    "clf.fit(X_train, y_train,\n",
    "        eval_set=[(X_train, y_train), (X_val, y_val)],\n",
    "        callbacks=[lgbm.early_stopping(stopping_rounds=100, verbose=True), lgbm.log_evaluation(10)])\n",
    "\n",
    "y_pred = clf.predict(X_test)\n",
    "score = roc_auc_score(y_test, y_pred)\n",
    "print(f'TEST_AUC={score}')"
   ]
  },
  {
   "cell_type": "code",
   "execution_count": 21,
   "metadata": {},
   "outputs": [
    {
     "name": "stdout",
     "output_type": "stream",
     "text": [
      "[[7990  272]\n",
      " [2179  361]]\n"
     ]
    },
    {
     "data": {
      "text/plain": [
       "<Axes: >"
      ]
     },
     "execution_count": 21,
     "metadata": {},
     "output_type": "execute_result"
    },
    {
     "data": {
      "image/png": "[encoded data removed]",
      "text/plain": [
       "<Figure size 640x480 with 2 Axes>"
      ]
     },
     "metadata": {},
     "output_type": "display_data"
    }
   ],
   "source": [
    "cm = confusion_matrix(y_test, y_pred)\n",
    "\n",
    "print(cm)\n",
    "sns.heatmap(cm, annot=True, cmap='Blues')"
   ]
  },
  {
   "cell_type": "code",
   "execution_count": 22,
   "metadata": {},
   "outputs": [
    {
     "data": {
      "text/plain": [
       "[<matplotlib.lines.Line2D at 0x20c0db85510>]"
      ]
     },
     "execution_count": 22,
     "metadata": {},
     "output_type": "execute_result"
    },
    {
     "data": {
      "image/png": "[encoded data removed]",
      "text/plain": [
       "<Figure size 640x480 with 1 Axes>"
      ]
     },
     "metadata": {},
     "output_type": "display_data"
    }
   ],
   "source": [
    "fig, ax = plt.subplots()\n",
    "\n",
    "fpr, tpr, _ = roc_curve(y_test, y_pred)\n",
    "ax.grid()\n",
    "fig.tight_layout()\n",
    "ax.plot(fpr, tpr)\n",
    "\n",
    "ax.plot(np.linspace(0, 1), np.linspace(0, 1), '--', color='grey')"
   ]
  },
  {
   "cell_type": "code",
   "execution_count": null,
   "metadata": {},
   "outputs": [],
   "source": []
  }
 ],
 "metadata": {
  "kernelspec": {
   "display_name": "myvenv",
   "language": "python",
   "name": "python3"
  },
  "language_info": {
   "codemirror_mode": {
    "name": "ipython",
    "version": 3
   },
   "file_extension": ".py",
   "mimetype": "text/x-python",
   "name": "python",
   "nbconvert_exporter": "python",
   "pygments_lexer": "ipython3",
   "version": "3.11.1"
  },
  "orig_nbformat": 4,
  "vscode": {
   "interpreter": {
    "hash": "7ff69bacaadc7e2cd0d1da4a544b42c7a912005d437346d3412f68a334aa5606"
   }
  }
 },
 "nbformat": 4,
 "nbformat_minor": 2
}
